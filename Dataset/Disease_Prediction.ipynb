{
  "cells": [
    {
      "cell_type": "markdown",
      "metadata": {
        "id": "a-aEVae9l_ns"
      },
      "source": [
        "# **Exploratory Data Analysis (EDA)**"
      ]
    },
    {
      "cell_type": "markdown",
      "metadata": {
        "id": "5GcelM-4mczu"
      },
      "source": [
        "**1. Import Dependencies**"
      ]
    },
    {
      "cell_type": "code",
      "execution_count": 100,
      "metadata": {
        "id": "lxFT0T1ymci9"
      },
      "outputs": [],
      "source": [
        "import pandas as pd\n",
        "import matplotlib.pyplot as plt\n",
        "import seaborn as sn\n",
        "from sklearn import metrics\n",
        "from sklearn.model_selection import train_test_split\n"
      ]
    },
    {
      "cell_type": "markdown",
      "metadata": {
        "id": "Na95ELIQmSgv"
      },
      "source": [
        "**1. Load the Dataset**"
      ]
    },
    {
      "cell_type": "code",
      "execution_count": 101,
      "metadata": {
        "id": "rL3IrQlCl5w8"
      },
      "outputs": [],
      "source": [
        "dataset = pd.read_csv('Dataset/dataset.csv')"
      ]
    },
    {
      "cell_type": "code",
      "execution_count": 102,
      "metadata": {
        "colab": {
          "base_uri": "https://localhost:8080/",
          "height": 617
        },
        "id": "b3nL0Cg0m2iy",
        "outputId": "f5969f9a-43b8-4ba9-aefa-6ee864d3fbb5"
      },
      "outputs": [
        {
          "data": {
            "text/html": [
              "<div>\n",
              "<style scoped>\n",
              "    .dataframe tbody tr th:only-of-type {\n",
              "        vertical-align: middle;\n",
              "    }\n",
              "\n",
              "    .dataframe tbody tr th {\n",
              "        vertical-align: top;\n",
              "    }\n",
              "\n",
              "    .dataframe thead th {\n",
              "        text-align: right;\n",
              "    }\n",
              "</style>\n",
              "<table border=\"1\" class=\"dataframe\">\n",
              "  <thead>\n",
              "    <tr style=\"text-align: right;\">\n",
              "      <th></th>\n",
              "      <th>Disease</th>\n",
              "      <th>Symptom_1</th>\n",
              "      <th>Symptom_2</th>\n",
              "      <th>Symptom_3</th>\n",
              "      <th>Symptom_4</th>\n",
              "      <th>Symptom_5</th>\n",
              "      <th>Symptom_6</th>\n",
              "      <th>Symptom_7</th>\n",
              "      <th>Symptom_8</th>\n",
              "      <th>Symptom_9</th>\n",
              "      <th>Symptom_10</th>\n",
              "      <th>Symptom_11</th>\n",
              "      <th>Symptom_12</th>\n",
              "      <th>Symptom_13</th>\n",
              "      <th>Symptom_14</th>\n",
              "      <th>Symptom_15</th>\n",
              "      <th>Symptom_16</th>\n",
              "      <th>Symptom_17</th>\n",
              "    </tr>\n",
              "  </thead>\n",
              "  <tbody>\n",
              "    <tr>\n",
              "      <th>0</th>\n",
              "      <td>Fungal infection</td>\n",
              "      <td>itching</td>\n",
              "      <td>skin_rash</td>\n",
              "      <td>nodal_skin_eruptions</td>\n",
              "      <td>dischromic _patches</td>\n",
              "      <td>NaN</td>\n",
              "      <td>NaN</td>\n",
              "      <td>NaN</td>\n",
              "      <td>NaN</td>\n",
              "      <td>NaN</td>\n",
              "      <td>NaN</td>\n",
              "      <td>NaN</td>\n",
              "      <td>NaN</td>\n",
              "      <td>NaN</td>\n",
              "      <td>NaN</td>\n",
              "      <td>NaN</td>\n",
              "      <td>NaN</td>\n",
              "      <td>NaN</td>\n",
              "    </tr>\n",
              "    <tr>\n",
              "      <th>1</th>\n",
              "      <td>Fungal infection</td>\n",
              "      <td>skin_rash</td>\n",
              "      <td>nodal_skin_eruptions</td>\n",
              "      <td>dischromic _patches</td>\n",
              "      <td>NaN</td>\n",
              "      <td>NaN</td>\n",
              "      <td>NaN</td>\n",
              "      <td>NaN</td>\n",
              "      <td>NaN</td>\n",
              "      <td>NaN</td>\n",
              "      <td>NaN</td>\n",
              "      <td>NaN</td>\n",
              "      <td>NaN</td>\n",
              "      <td>NaN</td>\n",
              "      <td>NaN</td>\n",
              "      <td>NaN</td>\n",
              "      <td>NaN</td>\n",
              "      <td>NaN</td>\n",
              "    </tr>\n",
              "    <tr>\n",
              "      <th>2</th>\n",
              "      <td>Fungal infection</td>\n",
              "      <td>itching</td>\n",
              "      <td>nodal_skin_eruptions</td>\n",
              "      <td>dischromic _patches</td>\n",
              "      <td>NaN</td>\n",
              "      <td>NaN</td>\n",
              "      <td>NaN</td>\n",
              "      <td>NaN</td>\n",
              "      <td>NaN</td>\n",
              "      <td>NaN</td>\n",
              "      <td>NaN</td>\n",
              "      <td>NaN</td>\n",
              "      <td>NaN</td>\n",
              "      <td>NaN</td>\n",
              "      <td>NaN</td>\n",
              "      <td>NaN</td>\n",
              "      <td>NaN</td>\n",
              "      <td>NaN</td>\n",
              "    </tr>\n",
              "    <tr>\n",
              "      <th>3</th>\n",
              "      <td>Fungal infection</td>\n",
              "      <td>itching</td>\n",
              "      <td>skin_rash</td>\n",
              "      <td>dischromic _patches</td>\n",
              "      <td>NaN</td>\n",
              "      <td>NaN</td>\n",
              "      <td>NaN</td>\n",
              "      <td>NaN</td>\n",
              "      <td>NaN</td>\n",
              "      <td>NaN</td>\n",
              "      <td>NaN</td>\n",
              "      <td>NaN</td>\n",
              "      <td>NaN</td>\n",
              "      <td>NaN</td>\n",
              "      <td>NaN</td>\n",
              "      <td>NaN</td>\n",
              "      <td>NaN</td>\n",
              "      <td>NaN</td>\n",
              "    </tr>\n",
              "    <tr>\n",
              "      <th>4</th>\n",
              "      <td>Fungal infection</td>\n",
              "      <td>itching</td>\n",
              "      <td>skin_rash</td>\n",
              "      <td>nodal_skin_eruptions</td>\n",
              "      <td>NaN</td>\n",
              "      <td>NaN</td>\n",
              "      <td>NaN</td>\n",
              "      <td>NaN</td>\n",
              "      <td>NaN</td>\n",
              "      <td>NaN</td>\n",
              "      <td>NaN</td>\n",
              "      <td>NaN</td>\n",
              "      <td>NaN</td>\n",
              "      <td>NaN</td>\n",
              "      <td>NaN</td>\n",
              "      <td>NaN</td>\n",
              "      <td>NaN</td>\n",
              "      <td>NaN</td>\n",
              "    </tr>\n",
              "    <tr>\n",
              "      <th>...</th>\n",
              "      <td>...</td>\n",
              "      <td>...</td>\n",
              "      <td>...</td>\n",
              "      <td>...</td>\n",
              "      <td>...</td>\n",
              "      <td>...</td>\n",
              "      <td>...</td>\n",
              "      <td>...</td>\n",
              "      <td>...</td>\n",
              "      <td>...</td>\n",
              "      <td>...</td>\n",
              "      <td>...</td>\n",
              "      <td>...</td>\n",
              "      <td>...</td>\n",
              "      <td>...</td>\n",
              "      <td>...</td>\n",
              "      <td>...</td>\n",
              "      <td>...</td>\n",
              "    </tr>\n",
              "    <tr>\n",
              "      <th>4920</th>\n",
              "      <td>Fungal infection</td>\n",
              "      <td>skin rash</td>\n",
              "      <td>itching</td>\n",
              "      <td>nodal skin eruptions</td>\n",
              "      <td>0</td>\n",
              "      <td>0</td>\n",
              "      <td>0</td>\n",
              "      <td>0</td>\n",
              "      <td>0</td>\n",
              "      <td>0</td>\n",
              "      <td>0</td>\n",
              "      <td>0</td>\n",
              "      <td>0</td>\n",
              "      <td>0</td>\n",
              "      <td>0</td>\n",
              "      <td>0</td>\n",
              "      <td>0</td>\n",
              "      <td>0</td>\n",
              "    </tr>\n",
              "    <tr>\n",
              "      <th>4921</th>\n",
              "      <td>Fungal infection</td>\n",
              "      <td>itching</td>\n",
              "      <td>skin rash</td>\n",
              "      <td>nodal skin eruptions</td>\n",
              "      <td>0</td>\n",
              "      <td>0</td>\n",
              "      <td>0</td>\n",
              "      <td>0</td>\n",
              "      <td>0</td>\n",
              "      <td>0</td>\n",
              "      <td>0</td>\n",
              "      <td>0</td>\n",
              "      <td>0</td>\n",
              "      <td>0</td>\n",
              "      <td>0</td>\n",
              "      <td>0</td>\n",
              "      <td>0</td>\n",
              "      <td>0</td>\n",
              "    </tr>\n",
              "    <tr>\n",
              "      <th>4922</th>\n",
              "      <td>Impetigo</td>\n",
              "      <td>skin rash</td>\n",
              "      <td>high fever</td>\n",
              "      <td>blister</td>\n",
              "      <td>red sore around nose</td>\n",
              "      <td>yellow crust ooze</td>\n",
              "      <td>0</td>\n",
              "      <td>0</td>\n",
              "      <td>0</td>\n",
              "      <td>0</td>\n",
              "      <td>0</td>\n",
              "      <td>0</td>\n",
              "      <td>0</td>\n",
              "      <td>0</td>\n",
              "      <td>0</td>\n",
              "      <td>0</td>\n",
              "      <td>0</td>\n",
              "      <td>0</td>\n",
              "    </tr>\n",
              "    <tr>\n",
              "      <th>4923</th>\n",
              "      <td>Impetigo</td>\n",
              "      <td>skin rash</td>\n",
              "      <td>high fever</td>\n",
              "      <td>blister</td>\n",
              "      <td>red sore around nose</td>\n",
              "      <td>yellow crust ooze</td>\n",
              "      <td>0</td>\n",
              "      <td>0</td>\n",
              "      <td>0</td>\n",
              "      <td>0</td>\n",
              "      <td>0</td>\n",
              "      <td>0</td>\n",
              "      <td>0</td>\n",
              "      <td>0</td>\n",
              "      <td>0</td>\n",
              "      <td>0</td>\n",
              "      <td>0</td>\n",
              "      <td>0</td>\n",
              "    </tr>\n",
              "    <tr>\n",
              "      <th>4924</th>\n",
              "      <td>Impetigo</td>\n",
              "      <td>yellow crust ooze</td>\n",
              "      <td>red sore around nose</td>\n",
              "      <td>blister</td>\n",
              "      <td>high fever</td>\n",
              "      <td>skin rash</td>\n",
              "      <td>0</td>\n",
              "      <td>0</td>\n",
              "      <td>0</td>\n",
              "      <td>0</td>\n",
              "      <td>0</td>\n",
              "      <td>0</td>\n",
              "      <td>0</td>\n",
              "      <td>0</td>\n",
              "      <td>0</td>\n",
              "      <td>0</td>\n",
              "      <td>0</td>\n",
              "      <td>0</td>\n",
              "    </tr>\n",
              "  </tbody>\n",
              "</table>\n",
              "<p>4925 rows × 18 columns</p>\n",
              "</div>"
            ],
            "text/plain": [
              "               Disease          Symptom_1              Symptom_2  \\\n",
              "0     Fungal infection            itching              skin_rash   \n",
              "1     Fungal infection          skin_rash   nodal_skin_eruptions   \n",
              "2     Fungal infection            itching   nodal_skin_eruptions   \n",
              "3     Fungal infection            itching              skin_rash   \n",
              "4     Fungal infection            itching              skin_rash   \n",
              "...                ...                ...                    ...   \n",
              "4920  Fungal infection          skin rash                itching   \n",
              "4921  Fungal infection           itching               skin rash   \n",
              "4922          Impetigo          skin rash             high fever   \n",
              "4923          Impetigo          skin rash             high fever   \n",
              "4924          Impetigo  yellow crust ooze   red sore around nose   \n",
              "\n",
              "                  Symptom_3             Symptom_4          Symptom_5  \\\n",
              "0      nodal_skin_eruptions   dischromic _patches                NaN   \n",
              "1       dischromic _patches                   NaN                NaN   \n",
              "2       dischromic _patches                   NaN                NaN   \n",
              "3       dischromic _patches                   NaN                NaN   \n",
              "4      nodal_skin_eruptions                   NaN                NaN   \n",
              "...                     ...                   ...                ...   \n",
              "4920   nodal skin eruptions                     0                  0   \n",
              "4921   nodal skin eruptions                     0                  0   \n",
              "4922                blister  red sore around nose  yellow crust ooze   \n",
              "4923                blister  red sore around nose  yellow crust ooze   \n",
              "4924                blister            high fever          skin rash   \n",
              "\n",
              "     Symptom_6 Symptom_7 Symptom_8 Symptom_9 Symptom_10 Symptom_11 Symptom_12  \\\n",
              "0          NaN       NaN       NaN       NaN        NaN        NaN        NaN   \n",
              "1          NaN       NaN       NaN       NaN        NaN        NaN        NaN   \n",
              "2          NaN       NaN       NaN       NaN        NaN        NaN        NaN   \n",
              "3          NaN       NaN       NaN       NaN        NaN        NaN        NaN   \n",
              "4          NaN       NaN       NaN       NaN        NaN        NaN        NaN   \n",
              "...        ...       ...       ...       ...        ...        ...        ...   \n",
              "4920         0         0         0         0          0          0          0   \n",
              "4921         0         0         0         0          0          0          0   \n",
              "4922         0         0         0         0          0          0          0   \n",
              "4923         0         0         0         0          0          0          0   \n",
              "4924         0         0         0         0          0          0          0   \n",
              "\n",
              "     Symptom_13 Symptom_14 Symptom_15 Symptom_16 Symptom_17  \n",
              "0           NaN        NaN        NaN        NaN        NaN  \n",
              "1           NaN        NaN        NaN        NaN        NaN  \n",
              "2           NaN        NaN        NaN        NaN        NaN  \n",
              "3           NaN        NaN        NaN        NaN        NaN  \n",
              "4           NaN        NaN        NaN        NaN        NaN  \n",
              "...         ...        ...        ...        ...        ...  \n",
              "4920          0          0          0          0          0  \n",
              "4921          0          0          0          0          0  \n",
              "4922          0          0          0          0          0  \n",
              "4923          0          0          0          0          0  \n",
              "4924          0          0          0          0          0  \n",
              "\n",
              "[4925 rows x 18 columns]"
            ]
          },
          "execution_count": 102,
          "metadata": {},
          "output_type": "execute_result"
        }
      ],
      "source": [
        "dataset"
      ]
    },
    {
      "cell_type": "code",
      "execution_count": 103,
      "metadata": {
        "colab": {
          "base_uri": "https://localhost:8080/"
        },
        "id": "g9sZLOULm3RC",
        "outputId": "e881185b-ba97-421d-987b-46d42f77380f"
      },
      "outputs": [
        {
          "data": {
            "text/plain": [
              "Disease\n",
              "Impetigo                                   123\n",
              "Fungal infection                           122\n",
              "Allergy                                    120\n",
              "Chronic cholestasis                        120\n",
              "GERD                                       120\n",
              "Peptic ulcer diseae                        120\n",
              "AIDS                                       120\n",
              "Diabetes                                   120\n",
              "Drug Reaction                              120\n",
              "Gastroenteritis                            120\n",
              "Bronchial Asthma                           120\n",
              "Migraine                                   120\n",
              "Hypertension                               120\n",
              "Paralysis (brain hemorrhage)               120\n",
              "Jaundice                                   120\n",
              "Malaria                                    120\n",
              "Cervical spondylosis                       120\n",
              "Dengue                                     120\n",
              "Typhoid                                    120\n",
              "hepatitis A                                120\n",
              "Hepatitis B                                120\n",
              "Hepatitis C                                120\n",
              "Hepatitis D                                120\n",
              "Hepatitis E                                120\n",
              "Chicken pox                                120\n",
              "Alcoholic hepatitis                        120\n",
              "Tuberculosis                               120\n",
              "Pneumonia                                  120\n",
              "Common Cold                                120\n",
              "Heart attack                               120\n",
              "Varicose veins                             120\n",
              "Hypothyroidism                             120\n",
              "Dimorphic hemmorhoids(piles)               120\n",
              "Hyperthyroidism                            120\n",
              "Hypoglycemia                               120\n",
              "Arthritis                                  120\n",
              "Osteoarthristis                            120\n",
              "(vertigo) Paroymsal  Positional Vertigo    120\n",
              "Acne                                       120\n",
              "Urinary tract infection                    120\n",
              "Psoriasis                                  120\n",
              "Name: count, dtype: int64"
            ]
          },
          "execution_count": 103,
          "metadata": {},
          "output_type": "execute_result"
        }
      ],
      "source": [
        "# Types of Disease in dataset\n",
        "dataset['Disease'].value_counts()"
      ]
    },
    {
      "cell_type": "markdown",
      "metadata": {
        "id": "eMnm3Pnbt8mL"
      },
      "source": [
        "**2. Get the Statistical Details**"
      ]
    },
    {
      "cell_type": "code",
      "execution_count": 104,
      "metadata": {
        "colab": {
          "base_uri": "https://localhost:8080/",
          "height": 212
        },
        "id": "39PKHjt-sA6r",
        "outputId": "a3b39451-9f15-4ff5-e873-9c93f4ff4d7e"
      },
      "outputs": [
        {
          "data": {
            "text/html": [
              "<div>\n",
              "<style scoped>\n",
              "    .dataframe tbody tr th:only-of-type {\n",
              "        vertical-align: middle;\n",
              "    }\n",
              "\n",
              "    .dataframe tbody tr th {\n",
              "        vertical-align: top;\n",
              "    }\n",
              "\n",
              "    .dataframe thead th {\n",
              "        text-align: right;\n",
              "    }\n",
              "</style>\n",
              "<table border=\"1\" class=\"dataframe\">\n",
              "  <thead>\n",
              "    <tr style=\"text-align: right;\">\n",
              "      <th></th>\n",
              "      <th>Disease</th>\n",
              "      <th>Symptom_1</th>\n",
              "      <th>Symptom_2</th>\n",
              "      <th>Symptom_3</th>\n",
              "      <th>Symptom_4</th>\n",
              "      <th>Symptom_5</th>\n",
              "      <th>Symptom_6</th>\n",
              "      <th>Symptom_7</th>\n",
              "      <th>Symptom_8</th>\n",
              "      <th>Symptom_9</th>\n",
              "      <th>Symptom_10</th>\n",
              "      <th>Symptom_11</th>\n",
              "      <th>Symptom_12</th>\n",
              "      <th>Symptom_13</th>\n",
              "      <th>Symptom_14</th>\n",
              "      <th>Symptom_15</th>\n",
              "      <th>Symptom_16</th>\n",
              "      <th>Symptom_17</th>\n",
              "    </tr>\n",
              "  </thead>\n",
              "  <tbody>\n",
              "    <tr>\n",
              "      <th>count</th>\n",
              "      <td>4925</td>\n",
              "      <td>4925</td>\n",
              "      <td>4925</td>\n",
              "      <td>4925</td>\n",
              "      <td>4577</td>\n",
              "      <td>3719</td>\n",
              "      <td>2939</td>\n",
              "      <td>2273</td>\n",
              "      <td>1949</td>\n",
              "      <td>1697</td>\n",
              "      <td>1517</td>\n",
              "      <td>1199</td>\n",
              "      <td>749</td>\n",
              "      <td>509</td>\n",
              "      <td>311</td>\n",
              "      <td>245</td>\n",
              "      <td>197</td>\n",
              "      <td>77</td>\n",
              "    </tr>\n",
              "    <tr>\n",
              "      <th>unique</th>\n",
              "      <td>41</td>\n",
              "      <td>37</td>\n",
              "      <td>52</td>\n",
              "      <td>56</td>\n",
              "      <td>53</td>\n",
              "      <td>41</td>\n",
              "      <td>33</td>\n",
              "      <td>27</td>\n",
              "      <td>22</td>\n",
              "      <td>23</td>\n",
              "      <td>22</td>\n",
              "      <td>19</td>\n",
              "      <td>12</td>\n",
              "      <td>9</td>\n",
              "      <td>5</td>\n",
              "      <td>4</td>\n",
              "      <td>4</td>\n",
              "      <td>2</td>\n",
              "    </tr>\n",
              "    <tr>\n",
              "      <th>top</th>\n",
              "      <td>Impetigo</td>\n",
              "      <td>vomiting</td>\n",
              "      <td>vomiting</td>\n",
              "      <td>fatigue</td>\n",
              "      <td>high_fever</td>\n",
              "      <td>headache</td>\n",
              "      <td>nausea</td>\n",
              "      <td>abdominal_pain</td>\n",
              "      <td>abdominal_pain</td>\n",
              "      <td>yellowing_of_eyes</td>\n",
              "      <td>yellowing_of_eyes</td>\n",
              "      <td>irritability</td>\n",
              "      <td>malaise</td>\n",
              "      <td>muscle_pain</td>\n",
              "      <td>chest_pain</td>\n",
              "      <td>chest_pain</td>\n",
              "      <td>blood_in_sputum</td>\n",
              "      <td>muscle_pain</td>\n",
              "    </tr>\n",
              "    <tr>\n",
              "      <th>freq</th>\n",
              "      <td>123</td>\n",
              "      <td>822</td>\n",
              "      <td>870</td>\n",
              "      <td>726</td>\n",
              "      <td>378</td>\n",
              "      <td>348</td>\n",
              "      <td>390</td>\n",
              "      <td>264</td>\n",
              "      <td>276</td>\n",
              "      <td>228</td>\n",
              "      <td>198</td>\n",
              "      <td>120</td>\n",
              "      <td>126</td>\n",
              "      <td>72</td>\n",
              "      <td>96</td>\n",
              "      <td>144</td>\n",
              "      <td>72</td>\n",
              "      <td>72</td>\n",
              "    </tr>\n",
              "  </tbody>\n",
              "</table>\n",
              "</div>"
            ],
            "text/plain": [
              "         Disease  Symptom_1  Symptom_2 Symptom_3    Symptom_4  Symptom_5  \\\n",
              "count       4925       4925       4925      4925         4577       3719   \n",
              "unique        41         37         52        56           53         41   \n",
              "top     Impetigo   vomiting   vomiting   fatigue   high_fever   headache   \n",
              "freq         123        822        870       726          378        348   \n",
              "\n",
              "       Symptom_6        Symptom_7        Symptom_8           Symptom_9  \\\n",
              "count       2939             2273             1949                1697   \n",
              "unique        33               27               22                  23   \n",
              "top       nausea   abdominal_pain   abdominal_pain   yellowing_of_eyes   \n",
              "freq         390              264              276                 228   \n",
              "\n",
              "                Symptom_10     Symptom_11 Symptom_12    Symptom_13  \\\n",
              "count                 1517           1199        749           509   \n",
              "unique                  22             19         12             9   \n",
              "top      yellowing_of_eyes   irritability    malaise   muscle_pain   \n",
              "freq                   198            120        126            72   \n",
              "\n",
              "         Symptom_14   Symptom_15        Symptom_16    Symptom_17  \n",
              "count           311          245               197            77  \n",
              "unique            5            4                 4             2  \n",
              "top      chest_pain   chest_pain   blood_in_sputum   muscle_pain  \n",
              "freq             96          144                72            72  "
            ]
          },
          "execution_count": 104,
          "metadata": {},
          "output_type": "execute_result"
        }
      ],
      "source": [
        "dataset.describe()"
      ]
    },
    {
      "cell_type": "markdown",
      "metadata": {
        "id": "oxbIMJ1CuEwx"
      },
      "source": [
        "**3. Get information about dataset**"
      ]
    },
    {
      "cell_type": "code",
      "execution_count": 105,
      "metadata": {
        "colab": {
          "base_uri": "https://localhost:8080/"
        },
        "id": "ofAyRmHys7KV",
        "outputId": "d9a9e471-86cb-4978-f995-c63416f86e6c"
      },
      "outputs": [
        {
          "name": "stdout",
          "output_type": "stream",
          "text": [
            "<class 'pandas.core.frame.DataFrame'>\n",
            "RangeIndex: 4925 entries, 0 to 4924\n",
            "Data columns (total 18 columns):\n",
            " #   Column      Non-Null Count  Dtype \n",
            "---  ------      --------------  ----- \n",
            " 0   Disease     4925 non-null   object\n",
            " 1   Symptom_1   4925 non-null   object\n",
            " 2   Symptom_2   4925 non-null   object\n",
            " 3   Symptom_3   4925 non-null   object\n",
            " 4   Symptom_4   4577 non-null   object\n",
            " 5   Symptom_5   3719 non-null   object\n",
            " 6   Symptom_6   2939 non-null   object\n",
            " 7   Symptom_7   2273 non-null   object\n",
            " 8   Symptom_8   1949 non-null   object\n",
            " 9   Symptom_9   1697 non-null   object\n",
            " 10  Symptom_10  1517 non-null   object\n",
            " 11  Symptom_11  1199 non-null   object\n",
            " 12  Symptom_12  749 non-null    object\n",
            " 13  Symptom_13  509 non-null    object\n",
            " 14  Symptom_14  311 non-null    object\n",
            " 15  Symptom_15  245 non-null    object\n",
            " 16  Symptom_16  197 non-null    object\n",
            " 17  Symptom_17  77 non-null     object\n",
            "dtypes: object(18)\n",
            "memory usage: 692.7+ KB\n"
          ]
        }
      ],
      "source": [
        "dataset.info()"
      ]
    },
    {
      "cell_type": "code",
      "execution_count": 106,
      "metadata": {
        "colab": {
          "base_uri": "https://localhost:8080/",
          "height": 617
        },
        "id": "Io9jmPz81iTC",
        "outputId": "752871d3-098a-4ce8-9df1-007ab5d82b0e"
      },
      "outputs": [
        {
          "data": {
            "text/html": [
              "<div>\n",
              "<style scoped>\n",
              "    .dataframe tbody tr th:only-of-type {\n",
              "        vertical-align: middle;\n",
              "    }\n",
              "\n",
              "    .dataframe tbody tr th {\n",
              "        vertical-align: top;\n",
              "    }\n",
              "\n",
              "    .dataframe thead th {\n",
              "        text-align: right;\n",
              "    }\n",
              "</style>\n",
              "<table border=\"1\" class=\"dataframe\">\n",
              "  <thead>\n",
              "    <tr style=\"text-align: right;\">\n",
              "      <th></th>\n",
              "      <th>Disease</th>\n",
              "      <th>Symptom_1</th>\n",
              "      <th>Symptom_2</th>\n",
              "      <th>Symptom_3</th>\n",
              "      <th>Symptom_4</th>\n",
              "      <th>Symptom_5</th>\n",
              "      <th>Symptom_6</th>\n",
              "      <th>Symptom_7</th>\n",
              "      <th>Symptom_8</th>\n",
              "      <th>Symptom_9</th>\n",
              "      <th>Symptom_10</th>\n",
              "      <th>Symptom_11</th>\n",
              "      <th>Symptom_12</th>\n",
              "      <th>Symptom_13</th>\n",
              "      <th>Symptom_14</th>\n",
              "      <th>Symptom_15</th>\n",
              "      <th>Symptom_16</th>\n",
              "      <th>Symptom_17</th>\n",
              "    </tr>\n",
              "  </thead>\n",
              "  <tbody>\n",
              "    <tr>\n",
              "      <th>0</th>\n",
              "      <td>Fungal infection</td>\n",
              "      <td>itching</td>\n",
              "      <td>skin_rash</td>\n",
              "      <td>nodal_skin_eruptions</td>\n",
              "      <td>dischromic _patches</td>\n",
              "      <td>NaN</td>\n",
              "      <td>NaN</td>\n",
              "      <td>NaN</td>\n",
              "      <td>NaN</td>\n",
              "      <td>NaN</td>\n",
              "      <td>NaN</td>\n",
              "      <td>NaN</td>\n",
              "      <td>NaN</td>\n",
              "      <td>NaN</td>\n",
              "      <td>NaN</td>\n",
              "      <td>NaN</td>\n",
              "      <td>NaN</td>\n",
              "      <td>NaN</td>\n",
              "    </tr>\n",
              "    <tr>\n",
              "      <th>1</th>\n",
              "      <td>Fungal infection</td>\n",
              "      <td>skin_rash</td>\n",
              "      <td>nodal_skin_eruptions</td>\n",
              "      <td>dischromic _patches</td>\n",
              "      <td>NaN</td>\n",
              "      <td>NaN</td>\n",
              "      <td>NaN</td>\n",
              "      <td>NaN</td>\n",
              "      <td>NaN</td>\n",
              "      <td>NaN</td>\n",
              "      <td>NaN</td>\n",
              "      <td>NaN</td>\n",
              "      <td>NaN</td>\n",
              "      <td>NaN</td>\n",
              "      <td>NaN</td>\n",
              "      <td>NaN</td>\n",
              "      <td>NaN</td>\n",
              "      <td>NaN</td>\n",
              "    </tr>\n",
              "    <tr>\n",
              "      <th>2</th>\n",
              "      <td>Fungal infection</td>\n",
              "      <td>itching</td>\n",
              "      <td>nodal_skin_eruptions</td>\n",
              "      <td>dischromic _patches</td>\n",
              "      <td>NaN</td>\n",
              "      <td>NaN</td>\n",
              "      <td>NaN</td>\n",
              "      <td>NaN</td>\n",
              "      <td>NaN</td>\n",
              "      <td>NaN</td>\n",
              "      <td>NaN</td>\n",
              "      <td>NaN</td>\n",
              "      <td>NaN</td>\n",
              "      <td>NaN</td>\n",
              "      <td>NaN</td>\n",
              "      <td>NaN</td>\n",
              "      <td>NaN</td>\n",
              "      <td>NaN</td>\n",
              "    </tr>\n",
              "    <tr>\n",
              "      <th>3</th>\n",
              "      <td>Fungal infection</td>\n",
              "      <td>itching</td>\n",
              "      <td>skin_rash</td>\n",
              "      <td>dischromic _patches</td>\n",
              "      <td>NaN</td>\n",
              "      <td>NaN</td>\n",
              "      <td>NaN</td>\n",
              "      <td>NaN</td>\n",
              "      <td>NaN</td>\n",
              "      <td>NaN</td>\n",
              "      <td>NaN</td>\n",
              "      <td>NaN</td>\n",
              "      <td>NaN</td>\n",
              "      <td>NaN</td>\n",
              "      <td>NaN</td>\n",
              "      <td>NaN</td>\n",
              "      <td>NaN</td>\n",
              "      <td>NaN</td>\n",
              "    </tr>\n",
              "    <tr>\n",
              "      <th>4</th>\n",
              "      <td>Fungal infection</td>\n",
              "      <td>itching</td>\n",
              "      <td>skin_rash</td>\n",
              "      <td>nodal_skin_eruptions</td>\n",
              "      <td>NaN</td>\n",
              "      <td>NaN</td>\n",
              "      <td>NaN</td>\n",
              "      <td>NaN</td>\n",
              "      <td>NaN</td>\n",
              "      <td>NaN</td>\n",
              "      <td>NaN</td>\n",
              "      <td>NaN</td>\n",
              "      <td>NaN</td>\n",
              "      <td>NaN</td>\n",
              "      <td>NaN</td>\n",
              "      <td>NaN</td>\n",
              "      <td>NaN</td>\n",
              "      <td>NaN</td>\n",
              "    </tr>\n",
              "    <tr>\n",
              "      <th>...</th>\n",
              "      <td>...</td>\n",
              "      <td>...</td>\n",
              "      <td>...</td>\n",
              "      <td>...</td>\n",
              "      <td>...</td>\n",
              "      <td>...</td>\n",
              "      <td>...</td>\n",
              "      <td>...</td>\n",
              "      <td>...</td>\n",
              "      <td>...</td>\n",
              "      <td>...</td>\n",
              "      <td>...</td>\n",
              "      <td>...</td>\n",
              "      <td>...</td>\n",
              "      <td>...</td>\n",
              "      <td>...</td>\n",
              "      <td>...</td>\n",
              "      <td>...</td>\n",
              "    </tr>\n",
              "    <tr>\n",
              "      <th>4920</th>\n",
              "      <td>Fungal infection</td>\n",
              "      <td>skin rash</td>\n",
              "      <td>itching</td>\n",
              "      <td>nodal skin eruptions</td>\n",
              "      <td>0</td>\n",
              "      <td>0</td>\n",
              "      <td>0</td>\n",
              "      <td>0</td>\n",
              "      <td>0</td>\n",
              "      <td>0</td>\n",
              "      <td>0</td>\n",
              "      <td>0</td>\n",
              "      <td>0</td>\n",
              "      <td>0</td>\n",
              "      <td>0</td>\n",
              "      <td>0</td>\n",
              "      <td>0</td>\n",
              "      <td>0</td>\n",
              "    </tr>\n",
              "    <tr>\n",
              "      <th>4921</th>\n",
              "      <td>Fungal infection</td>\n",
              "      <td>itching</td>\n",
              "      <td>skin rash</td>\n",
              "      <td>nodal skin eruptions</td>\n",
              "      <td>0</td>\n",
              "      <td>0</td>\n",
              "      <td>0</td>\n",
              "      <td>0</td>\n",
              "      <td>0</td>\n",
              "      <td>0</td>\n",
              "      <td>0</td>\n",
              "      <td>0</td>\n",
              "      <td>0</td>\n",
              "      <td>0</td>\n",
              "      <td>0</td>\n",
              "      <td>0</td>\n",
              "      <td>0</td>\n",
              "      <td>0</td>\n",
              "    </tr>\n",
              "    <tr>\n",
              "      <th>4922</th>\n",
              "      <td>Impetigo</td>\n",
              "      <td>skin rash</td>\n",
              "      <td>high fever</td>\n",
              "      <td>blister</td>\n",
              "      <td>red sore around nose</td>\n",
              "      <td>yellow crust ooze</td>\n",
              "      <td>0</td>\n",
              "      <td>0</td>\n",
              "      <td>0</td>\n",
              "      <td>0</td>\n",
              "      <td>0</td>\n",
              "      <td>0</td>\n",
              "      <td>0</td>\n",
              "      <td>0</td>\n",
              "      <td>0</td>\n",
              "      <td>0</td>\n",
              "      <td>0</td>\n",
              "      <td>0</td>\n",
              "    </tr>\n",
              "    <tr>\n",
              "      <th>4923</th>\n",
              "      <td>Impetigo</td>\n",
              "      <td>skin rash</td>\n",
              "      <td>high fever</td>\n",
              "      <td>blister</td>\n",
              "      <td>red sore around nose</td>\n",
              "      <td>yellow crust ooze</td>\n",
              "      <td>0</td>\n",
              "      <td>0</td>\n",
              "      <td>0</td>\n",
              "      <td>0</td>\n",
              "      <td>0</td>\n",
              "      <td>0</td>\n",
              "      <td>0</td>\n",
              "      <td>0</td>\n",
              "      <td>0</td>\n",
              "      <td>0</td>\n",
              "      <td>0</td>\n",
              "      <td>0</td>\n",
              "    </tr>\n",
              "    <tr>\n",
              "      <th>4924</th>\n",
              "      <td>Impetigo</td>\n",
              "      <td>yellow crust ooze</td>\n",
              "      <td>red sore around nose</td>\n",
              "      <td>blister</td>\n",
              "      <td>high fever</td>\n",
              "      <td>skin rash</td>\n",
              "      <td>0</td>\n",
              "      <td>0</td>\n",
              "      <td>0</td>\n",
              "      <td>0</td>\n",
              "      <td>0</td>\n",
              "      <td>0</td>\n",
              "      <td>0</td>\n",
              "      <td>0</td>\n",
              "      <td>0</td>\n",
              "      <td>0</td>\n",
              "      <td>0</td>\n",
              "      <td>0</td>\n",
              "    </tr>\n",
              "  </tbody>\n",
              "</table>\n",
              "<p>4925 rows × 18 columns</p>\n",
              "</div>"
            ],
            "text/plain": [
              "               Disease          Symptom_1              Symptom_2  \\\n",
              "0     Fungal infection            itching              skin_rash   \n",
              "1     Fungal infection          skin_rash   nodal_skin_eruptions   \n",
              "2     Fungal infection            itching   nodal_skin_eruptions   \n",
              "3     Fungal infection            itching              skin_rash   \n",
              "4     Fungal infection            itching              skin_rash   \n",
              "...                ...                ...                    ...   \n",
              "4920  Fungal infection          skin rash                itching   \n",
              "4921  Fungal infection           itching               skin rash   \n",
              "4922          Impetigo          skin rash             high fever   \n",
              "4923          Impetigo          skin rash             high fever   \n",
              "4924          Impetigo  yellow crust ooze   red sore around nose   \n",
              "\n",
              "                  Symptom_3             Symptom_4          Symptom_5  \\\n",
              "0      nodal_skin_eruptions   dischromic _patches                NaN   \n",
              "1       dischromic _patches                   NaN                NaN   \n",
              "2       dischromic _patches                   NaN                NaN   \n",
              "3       dischromic _patches                   NaN                NaN   \n",
              "4      nodal_skin_eruptions                   NaN                NaN   \n",
              "...                     ...                   ...                ...   \n",
              "4920   nodal skin eruptions                     0                  0   \n",
              "4921   nodal skin eruptions                     0                  0   \n",
              "4922                blister  red sore around nose  yellow crust ooze   \n",
              "4923                blister  red sore around nose  yellow crust ooze   \n",
              "4924                blister            high fever          skin rash   \n",
              "\n",
              "     Symptom_6 Symptom_7 Symptom_8 Symptom_9 Symptom_10 Symptom_11 Symptom_12  \\\n",
              "0          NaN       NaN       NaN       NaN        NaN        NaN        NaN   \n",
              "1          NaN       NaN       NaN       NaN        NaN        NaN        NaN   \n",
              "2          NaN       NaN       NaN       NaN        NaN        NaN        NaN   \n",
              "3          NaN       NaN       NaN       NaN        NaN        NaN        NaN   \n",
              "4          NaN       NaN       NaN       NaN        NaN        NaN        NaN   \n",
              "...        ...       ...       ...       ...        ...        ...        ...   \n",
              "4920         0         0         0         0          0          0          0   \n",
              "4921         0         0         0         0          0          0          0   \n",
              "4922         0         0         0         0          0          0          0   \n",
              "4923         0         0         0         0          0          0          0   \n",
              "4924         0         0         0         0          0          0          0   \n",
              "\n",
              "     Symptom_13 Symptom_14 Symptom_15 Symptom_16 Symptom_17  \n",
              "0           NaN        NaN        NaN        NaN        NaN  \n",
              "1           NaN        NaN        NaN        NaN        NaN  \n",
              "2           NaN        NaN        NaN        NaN        NaN  \n",
              "3           NaN        NaN        NaN        NaN        NaN  \n",
              "4           NaN        NaN        NaN        NaN        NaN  \n",
              "...         ...        ...        ...        ...        ...  \n",
              "4920          0          0          0          0          0  \n",
              "4921          0          0          0          0          0  \n",
              "4922          0          0          0          0          0  \n",
              "4923          0          0          0          0          0  \n",
              "4924          0          0          0          0          0  \n",
              "\n",
              "[4925 rows x 18 columns]"
            ]
          },
          "execution_count": 106,
          "metadata": {},
          "output_type": "execute_result"
        }
      ],
      "source": [
        "dataset\n"
      ]
    },
    {
      "cell_type": "markdown",
      "metadata": {
        "id": "JM5CfXmV1r8o"
      },
      "source": [
        "**4. Converting Categorical Data into Numerical using One Hot Encoding**"
      ]
    },
    {
      "cell_type": "code",
      "execution_count": 107,
      "metadata": {
        "id": "p3rUcBpY1pO0"
      },
      "outputs": [],
      "source": [
        "for col in dataset.columns:\n",
        "    dataset[col] = dataset[col].str.replace('_',' ')"
      ]
    },
    {
      "cell_type": "code",
      "execution_count": 108,
      "metadata": {
        "colab": {
          "base_uri": "https://localhost:8080/",
          "height": 313
        },
        "id": "XTsyrnI53KeY",
        "outputId": "34a3432f-a1ce-4ac1-9fe9-68ff93695b26"
      },
      "outputs": [
        {
          "data": {
            "text/html": [
              "<div>\n",
              "<style scoped>\n",
              "    .dataframe tbody tr th:only-of-type {\n",
              "        vertical-align: middle;\n",
              "    }\n",
              "\n",
              "    .dataframe tbody tr th {\n",
              "        vertical-align: top;\n",
              "    }\n",
              "\n",
              "    .dataframe thead th {\n",
              "        text-align: right;\n",
              "    }\n",
              "</style>\n",
              "<table border=\"1\" class=\"dataframe\">\n",
              "  <thead>\n",
              "    <tr style=\"text-align: right;\">\n",
              "      <th></th>\n",
              "      <th>Disease</th>\n",
              "      <th>Symptom_1</th>\n",
              "      <th>Symptom_2</th>\n",
              "      <th>Symptom_3</th>\n",
              "      <th>Symptom_4</th>\n",
              "      <th>Symptom_5</th>\n",
              "      <th>Symptom_6</th>\n",
              "      <th>Symptom_7</th>\n",
              "      <th>Symptom_8</th>\n",
              "      <th>Symptom_9</th>\n",
              "      <th>Symptom_10</th>\n",
              "      <th>Symptom_11</th>\n",
              "      <th>Symptom_12</th>\n",
              "      <th>Symptom_13</th>\n",
              "      <th>Symptom_14</th>\n",
              "      <th>Symptom_15</th>\n",
              "      <th>Symptom_16</th>\n",
              "      <th>Symptom_17</th>\n",
              "    </tr>\n",
              "  </thead>\n",
              "  <tbody>\n",
              "    <tr>\n",
              "      <th>0</th>\n",
              "      <td>Fungal infection</td>\n",
              "      <td>itching</td>\n",
              "      <td>skin rash</td>\n",
              "      <td>nodal skin eruptions</td>\n",
              "      <td>dischromic  patches</td>\n",
              "      <td>NaN</td>\n",
              "      <td>NaN</td>\n",
              "      <td>NaN</td>\n",
              "      <td>NaN</td>\n",
              "      <td>NaN</td>\n",
              "      <td>NaN</td>\n",
              "      <td>NaN</td>\n",
              "      <td>NaN</td>\n",
              "      <td>NaN</td>\n",
              "      <td>NaN</td>\n",
              "      <td>NaN</td>\n",
              "      <td>NaN</td>\n",
              "      <td>NaN</td>\n",
              "    </tr>\n",
              "    <tr>\n",
              "      <th>1</th>\n",
              "      <td>Fungal infection</td>\n",
              "      <td>skin rash</td>\n",
              "      <td>nodal skin eruptions</td>\n",
              "      <td>dischromic  patches</td>\n",
              "      <td>NaN</td>\n",
              "      <td>NaN</td>\n",
              "      <td>NaN</td>\n",
              "      <td>NaN</td>\n",
              "      <td>NaN</td>\n",
              "      <td>NaN</td>\n",
              "      <td>NaN</td>\n",
              "      <td>NaN</td>\n",
              "      <td>NaN</td>\n",
              "      <td>NaN</td>\n",
              "      <td>NaN</td>\n",
              "      <td>NaN</td>\n",
              "      <td>NaN</td>\n",
              "      <td>NaN</td>\n",
              "    </tr>\n",
              "    <tr>\n",
              "      <th>2</th>\n",
              "      <td>Fungal infection</td>\n",
              "      <td>itching</td>\n",
              "      <td>nodal skin eruptions</td>\n",
              "      <td>dischromic  patches</td>\n",
              "      <td>NaN</td>\n",
              "      <td>NaN</td>\n",
              "      <td>NaN</td>\n",
              "      <td>NaN</td>\n",
              "      <td>NaN</td>\n",
              "      <td>NaN</td>\n",
              "      <td>NaN</td>\n",
              "      <td>NaN</td>\n",
              "      <td>NaN</td>\n",
              "      <td>NaN</td>\n",
              "      <td>NaN</td>\n",
              "      <td>NaN</td>\n",
              "      <td>NaN</td>\n",
              "      <td>NaN</td>\n",
              "    </tr>\n",
              "    <tr>\n",
              "      <th>3</th>\n",
              "      <td>Fungal infection</td>\n",
              "      <td>itching</td>\n",
              "      <td>skin rash</td>\n",
              "      <td>dischromic  patches</td>\n",
              "      <td>NaN</td>\n",
              "      <td>NaN</td>\n",
              "      <td>NaN</td>\n",
              "      <td>NaN</td>\n",
              "      <td>NaN</td>\n",
              "      <td>NaN</td>\n",
              "      <td>NaN</td>\n",
              "      <td>NaN</td>\n",
              "      <td>NaN</td>\n",
              "      <td>NaN</td>\n",
              "      <td>NaN</td>\n",
              "      <td>NaN</td>\n",
              "      <td>NaN</td>\n",
              "      <td>NaN</td>\n",
              "    </tr>\n",
              "    <tr>\n",
              "      <th>4</th>\n",
              "      <td>Fungal infection</td>\n",
              "      <td>itching</td>\n",
              "      <td>skin rash</td>\n",
              "      <td>nodal skin eruptions</td>\n",
              "      <td>NaN</td>\n",
              "      <td>NaN</td>\n",
              "      <td>NaN</td>\n",
              "      <td>NaN</td>\n",
              "      <td>NaN</td>\n",
              "      <td>NaN</td>\n",
              "      <td>NaN</td>\n",
              "      <td>NaN</td>\n",
              "      <td>NaN</td>\n",
              "      <td>NaN</td>\n",
              "      <td>NaN</td>\n",
              "      <td>NaN</td>\n",
              "      <td>NaN</td>\n",
              "      <td>NaN</td>\n",
              "    </tr>\n",
              "  </tbody>\n",
              "</table>\n",
              "</div>"
            ],
            "text/plain": [
              "            Disease   Symptom_1              Symptom_2              Symptom_3  \\\n",
              "0  Fungal infection     itching              skin rash   nodal skin eruptions   \n",
              "1  Fungal infection   skin rash   nodal skin eruptions    dischromic  patches   \n",
              "2  Fungal infection     itching   nodal skin eruptions    dischromic  patches   \n",
              "3  Fungal infection     itching              skin rash    dischromic  patches   \n",
              "4  Fungal infection     itching              skin rash   nodal skin eruptions   \n",
              "\n",
              "              Symptom_4 Symptom_5 Symptom_6 Symptom_7 Symptom_8 Symptom_9  \\\n",
              "0   dischromic  patches       NaN       NaN       NaN       NaN       NaN   \n",
              "1                   NaN       NaN       NaN       NaN       NaN       NaN   \n",
              "2                   NaN       NaN       NaN       NaN       NaN       NaN   \n",
              "3                   NaN       NaN       NaN       NaN       NaN       NaN   \n",
              "4                   NaN       NaN       NaN       NaN       NaN       NaN   \n",
              "\n",
              "  Symptom_10 Symptom_11 Symptom_12 Symptom_13 Symptom_14 Symptom_15  \\\n",
              "0        NaN        NaN        NaN        NaN        NaN        NaN   \n",
              "1        NaN        NaN        NaN        NaN        NaN        NaN   \n",
              "2        NaN        NaN        NaN        NaN        NaN        NaN   \n",
              "3        NaN        NaN        NaN        NaN        NaN        NaN   \n",
              "4        NaN        NaN        NaN        NaN        NaN        NaN   \n",
              "\n",
              "  Symptom_16 Symptom_17  \n",
              "0        NaN        NaN  \n",
              "1        NaN        NaN  \n",
              "2        NaN        NaN  \n",
              "3        NaN        NaN  \n",
              "4        NaN        NaN  "
            ]
          },
          "execution_count": 108,
          "metadata": {},
          "output_type": "execute_result"
        }
      ],
      "source": [
        "dataset.head()"
      ]
    },
    {
      "cell_type": "code",
      "execution_count": 109,
      "metadata": {
        "colab": {
          "base_uri": "https://localhost:8080/",
          "height": 313
        },
        "id": "8F4RswWKuBvm",
        "outputId": "4689c582-71e4-4183-d670-c2743a2311ae"
      },
      "outputs": [
        {
          "data": {
            "text/html": [
              "<div>\n",
              "<style scoped>\n",
              "    .dataframe tbody tr th:only-of-type {\n",
              "        vertical-align: middle;\n",
              "    }\n",
              "\n",
              "    .dataframe tbody tr th {\n",
              "        vertical-align: top;\n",
              "    }\n",
              "\n",
              "    .dataframe thead th {\n",
              "        text-align: right;\n",
              "    }\n",
              "</style>\n",
              "<table border=\"1\" class=\"dataframe\">\n",
              "  <thead>\n",
              "    <tr style=\"text-align: right;\">\n",
              "      <th></th>\n",
              "      <th>Disease</th>\n",
              "      <th>Symptom_1</th>\n",
              "      <th>Symptom_2</th>\n",
              "      <th>Symptom_3</th>\n",
              "      <th>Symptom_4</th>\n",
              "      <th>Symptom_5</th>\n",
              "      <th>Symptom_6</th>\n",
              "      <th>Symptom_7</th>\n",
              "      <th>Symptom_8</th>\n",
              "      <th>Symptom_9</th>\n",
              "      <th>Symptom_10</th>\n",
              "      <th>Symptom_11</th>\n",
              "      <th>Symptom_12</th>\n",
              "      <th>Symptom_13</th>\n",
              "      <th>Symptom_14</th>\n",
              "      <th>Symptom_15</th>\n",
              "      <th>Symptom_16</th>\n",
              "      <th>Symptom_17</th>\n",
              "    </tr>\n",
              "  </thead>\n",
              "  <tbody>\n",
              "    <tr>\n",
              "      <th>0</th>\n",
              "      <td>Fungal infection</td>\n",
              "      <td>itching</td>\n",
              "      <td>skin rash</td>\n",
              "      <td>nodal skin eruptions</td>\n",
              "      <td>dischromic  patches</td>\n",
              "      <td>NaN</td>\n",
              "      <td>NaN</td>\n",
              "      <td>NaN</td>\n",
              "      <td>NaN</td>\n",
              "      <td>NaN</td>\n",
              "      <td>NaN</td>\n",
              "      <td>NaN</td>\n",
              "      <td>NaN</td>\n",
              "      <td>NaN</td>\n",
              "      <td>NaN</td>\n",
              "      <td>NaN</td>\n",
              "      <td>NaN</td>\n",
              "      <td>NaN</td>\n",
              "    </tr>\n",
              "    <tr>\n",
              "      <th>1</th>\n",
              "      <td>Fungal infection</td>\n",
              "      <td>skin rash</td>\n",
              "      <td>nodal skin eruptions</td>\n",
              "      <td>dischromic  patches</td>\n",
              "      <td>NaN</td>\n",
              "      <td>NaN</td>\n",
              "      <td>NaN</td>\n",
              "      <td>NaN</td>\n",
              "      <td>NaN</td>\n",
              "      <td>NaN</td>\n",
              "      <td>NaN</td>\n",
              "      <td>NaN</td>\n",
              "      <td>NaN</td>\n",
              "      <td>NaN</td>\n",
              "      <td>NaN</td>\n",
              "      <td>NaN</td>\n",
              "      <td>NaN</td>\n",
              "      <td>NaN</td>\n",
              "    </tr>\n",
              "    <tr>\n",
              "      <th>2</th>\n",
              "      <td>Fungal infection</td>\n",
              "      <td>itching</td>\n",
              "      <td>nodal skin eruptions</td>\n",
              "      <td>dischromic  patches</td>\n",
              "      <td>NaN</td>\n",
              "      <td>NaN</td>\n",
              "      <td>NaN</td>\n",
              "      <td>NaN</td>\n",
              "      <td>NaN</td>\n",
              "      <td>NaN</td>\n",
              "      <td>NaN</td>\n",
              "      <td>NaN</td>\n",
              "      <td>NaN</td>\n",
              "      <td>NaN</td>\n",
              "      <td>NaN</td>\n",
              "      <td>NaN</td>\n",
              "      <td>NaN</td>\n",
              "      <td>NaN</td>\n",
              "    </tr>\n",
              "    <tr>\n",
              "      <th>3</th>\n",
              "      <td>Fungal infection</td>\n",
              "      <td>itching</td>\n",
              "      <td>skin rash</td>\n",
              "      <td>dischromic  patches</td>\n",
              "      <td>NaN</td>\n",
              "      <td>NaN</td>\n",
              "      <td>NaN</td>\n",
              "      <td>NaN</td>\n",
              "      <td>NaN</td>\n",
              "      <td>NaN</td>\n",
              "      <td>NaN</td>\n",
              "      <td>NaN</td>\n",
              "      <td>NaN</td>\n",
              "      <td>NaN</td>\n",
              "      <td>NaN</td>\n",
              "      <td>NaN</td>\n",
              "      <td>NaN</td>\n",
              "      <td>NaN</td>\n",
              "    </tr>\n",
              "    <tr>\n",
              "      <th>4</th>\n",
              "      <td>Fungal infection</td>\n",
              "      <td>itching</td>\n",
              "      <td>skin rash</td>\n",
              "      <td>nodal skin eruptions</td>\n",
              "      <td>NaN</td>\n",
              "      <td>NaN</td>\n",
              "      <td>NaN</td>\n",
              "      <td>NaN</td>\n",
              "      <td>NaN</td>\n",
              "      <td>NaN</td>\n",
              "      <td>NaN</td>\n",
              "      <td>NaN</td>\n",
              "      <td>NaN</td>\n",
              "      <td>NaN</td>\n",
              "      <td>NaN</td>\n",
              "      <td>NaN</td>\n",
              "      <td>NaN</td>\n",
              "      <td>NaN</td>\n",
              "    </tr>\n",
              "  </tbody>\n",
              "</table>\n",
              "</div>"
            ],
            "text/plain": [
              "            Disease  Symptom_1             Symptom_2             Symptom_3  \\\n",
              "0  Fungal infection    itching             skin rash  nodal skin eruptions   \n",
              "1  Fungal infection  skin rash  nodal skin eruptions   dischromic  patches   \n",
              "2  Fungal infection    itching  nodal skin eruptions   dischromic  patches   \n",
              "3  Fungal infection    itching             skin rash   dischromic  patches   \n",
              "4  Fungal infection    itching             skin rash  nodal skin eruptions   \n",
              "\n",
              "             Symptom_4 Symptom_5 Symptom_6 Symptom_7 Symptom_8 Symptom_9  \\\n",
              "0  dischromic  patches       NaN       NaN       NaN       NaN       NaN   \n",
              "1                  NaN       NaN       NaN       NaN       NaN       NaN   \n",
              "2                  NaN       NaN       NaN       NaN       NaN       NaN   \n",
              "3                  NaN       NaN       NaN       NaN       NaN       NaN   \n",
              "4                  NaN       NaN       NaN       NaN       NaN       NaN   \n",
              "\n",
              "  Symptom_10 Symptom_11 Symptom_12 Symptom_13 Symptom_14 Symptom_15  \\\n",
              "0        NaN        NaN        NaN        NaN        NaN        NaN   \n",
              "1        NaN        NaN        NaN        NaN        NaN        NaN   \n",
              "2        NaN        NaN        NaN        NaN        NaN        NaN   \n",
              "3        NaN        NaN        NaN        NaN        NaN        NaN   \n",
              "4        NaN        NaN        NaN        NaN        NaN        NaN   \n",
              "\n",
              "  Symptom_16 Symptom_17  \n",
              "0        NaN        NaN  \n",
              "1        NaN        NaN  \n",
              "2        NaN        NaN  \n",
              "3        NaN        NaN  \n",
              "4        NaN        NaN  "
            ]
          },
          "execution_count": 109,
          "metadata": {},
          "output_type": "execute_result"
        }
      ],
      "source": [
        "# Removing the white space in each cell of Dataframe\n",
        "cols = dataset.columns\n",
        "data = dataset[cols].values.flatten()\n",
        "\n",
        "s = pd.Series(data)\n",
        "s = s.str.strip()\n",
        "s = s.values.reshape(dataset.shape)\n",
        "\n",
        "dataset = pd.DataFrame(s,columns = cols)\n",
        "dataset.head()"
      ]
    },
    {
      "cell_type": "markdown",
      "metadata": {
        "id": "l4zz6Zlb3nl9"
      },
      "source": [
        "handling the missing values   "
      ]
    },
    {
      "cell_type": "code",
      "execution_count": 110,
      "metadata": {
        "id": "ZEdk3LYi3iPd"
      },
      "outputs": [],
      "source": [
        "dataset.fillna(0, inplace = True)"
      ]
    },
    {
      "cell_type": "code",
      "execution_count": 111,
      "metadata": {
        "colab": {
          "base_uri": "https://localhost:8080/",
          "height": 704
        },
        "id": "x6-jmap95zZz",
        "outputId": "0ca19240-ef54-4c7f-b8d5-b2edef2d3460"
      },
      "outputs": [
        {
          "data": {
            "text/html": [
              "<div>\n",
              "<style scoped>\n",
              "    .dataframe tbody tr th:only-of-type {\n",
              "        vertical-align: middle;\n",
              "    }\n",
              "\n",
              "    .dataframe tbody tr th {\n",
              "        vertical-align: top;\n",
              "    }\n",
              "\n",
              "    .dataframe thead th {\n",
              "        text-align: right;\n",
              "    }\n",
              "</style>\n",
              "<table border=\"1\" class=\"dataframe\">\n",
              "  <thead>\n",
              "    <tr style=\"text-align: right;\">\n",
              "      <th></th>\n",
              "      <th>Disease</th>\n",
              "      <th>Symptom_1</th>\n",
              "      <th>Symptom_2</th>\n",
              "      <th>Symptom_3</th>\n",
              "      <th>Symptom_4</th>\n",
              "      <th>Symptom_5</th>\n",
              "      <th>Symptom_6</th>\n",
              "      <th>Symptom_7</th>\n",
              "      <th>Symptom_8</th>\n",
              "      <th>Symptom_9</th>\n",
              "      <th>Symptom_10</th>\n",
              "      <th>Symptom_11</th>\n",
              "      <th>Symptom_12</th>\n",
              "      <th>Symptom_13</th>\n",
              "      <th>Symptom_14</th>\n",
              "      <th>Symptom_15</th>\n",
              "      <th>Symptom_16</th>\n",
              "      <th>Symptom_17</th>\n",
              "    </tr>\n",
              "  </thead>\n",
              "  <tbody>\n",
              "    <tr>\n",
              "      <th>0</th>\n",
              "      <td>Fungal infection</td>\n",
              "      <td>itching</td>\n",
              "      <td>skin rash</td>\n",
              "      <td>nodal skin eruptions</td>\n",
              "      <td>dischromic  patches</td>\n",
              "      <td>0</td>\n",
              "      <td>0</td>\n",
              "      <td>0</td>\n",
              "      <td>0</td>\n",
              "      <td>0</td>\n",
              "      <td>0</td>\n",
              "      <td>0</td>\n",
              "      <td>0</td>\n",
              "      <td>0</td>\n",
              "      <td>0</td>\n",
              "      <td>0</td>\n",
              "      <td>0</td>\n",
              "      <td>0</td>\n",
              "    </tr>\n",
              "    <tr>\n",
              "      <th>1</th>\n",
              "      <td>Fungal infection</td>\n",
              "      <td>skin rash</td>\n",
              "      <td>nodal skin eruptions</td>\n",
              "      <td>dischromic  patches</td>\n",
              "      <td>0</td>\n",
              "      <td>0</td>\n",
              "      <td>0</td>\n",
              "      <td>0</td>\n",
              "      <td>0</td>\n",
              "      <td>0</td>\n",
              "      <td>0</td>\n",
              "      <td>0</td>\n",
              "      <td>0</td>\n",
              "      <td>0</td>\n",
              "      <td>0</td>\n",
              "      <td>0</td>\n",
              "      <td>0</td>\n",
              "      <td>0</td>\n",
              "    </tr>\n",
              "    <tr>\n",
              "      <th>2</th>\n",
              "      <td>Fungal infection</td>\n",
              "      <td>itching</td>\n",
              "      <td>nodal skin eruptions</td>\n",
              "      <td>dischromic  patches</td>\n",
              "      <td>0</td>\n",
              "      <td>0</td>\n",
              "      <td>0</td>\n",
              "      <td>0</td>\n",
              "      <td>0</td>\n",
              "      <td>0</td>\n",
              "      <td>0</td>\n",
              "      <td>0</td>\n",
              "      <td>0</td>\n",
              "      <td>0</td>\n",
              "      <td>0</td>\n",
              "      <td>0</td>\n",
              "      <td>0</td>\n",
              "      <td>0</td>\n",
              "    </tr>\n",
              "    <tr>\n",
              "      <th>3</th>\n",
              "      <td>Fungal infection</td>\n",
              "      <td>itching</td>\n",
              "      <td>skin rash</td>\n",
              "      <td>dischromic  patches</td>\n",
              "      <td>0</td>\n",
              "      <td>0</td>\n",
              "      <td>0</td>\n",
              "      <td>0</td>\n",
              "      <td>0</td>\n",
              "      <td>0</td>\n",
              "      <td>0</td>\n",
              "      <td>0</td>\n",
              "      <td>0</td>\n",
              "      <td>0</td>\n",
              "      <td>0</td>\n",
              "      <td>0</td>\n",
              "      <td>0</td>\n",
              "      <td>0</td>\n",
              "    </tr>\n",
              "    <tr>\n",
              "      <th>4</th>\n",
              "      <td>Fungal infection</td>\n",
              "      <td>itching</td>\n",
              "      <td>skin rash</td>\n",
              "      <td>nodal skin eruptions</td>\n",
              "      <td>0</td>\n",
              "      <td>0</td>\n",
              "      <td>0</td>\n",
              "      <td>0</td>\n",
              "      <td>0</td>\n",
              "      <td>0</td>\n",
              "      <td>0</td>\n",
              "      <td>0</td>\n",
              "      <td>0</td>\n",
              "      <td>0</td>\n",
              "      <td>0</td>\n",
              "      <td>0</td>\n",
              "      <td>0</td>\n",
              "      <td>0</td>\n",
              "    </tr>\n",
              "    <tr>\n",
              "      <th>...</th>\n",
              "      <td>...</td>\n",
              "      <td>...</td>\n",
              "      <td>...</td>\n",
              "      <td>...</td>\n",
              "      <td>...</td>\n",
              "      <td>...</td>\n",
              "      <td>...</td>\n",
              "      <td>...</td>\n",
              "      <td>...</td>\n",
              "      <td>...</td>\n",
              "      <td>...</td>\n",
              "      <td>...</td>\n",
              "      <td>...</td>\n",
              "      <td>...</td>\n",
              "      <td>...</td>\n",
              "      <td>...</td>\n",
              "      <td>...</td>\n",
              "      <td>...</td>\n",
              "    </tr>\n",
              "    <tr>\n",
              "      <th>4920</th>\n",
              "      <td>Fungal infection</td>\n",
              "      <td>skin rash</td>\n",
              "      <td>itching</td>\n",
              "      <td>nodal skin eruptions</td>\n",
              "      <td>0</td>\n",
              "      <td>0</td>\n",
              "      <td>0</td>\n",
              "      <td>0</td>\n",
              "      <td>0</td>\n",
              "      <td>0</td>\n",
              "      <td>0</td>\n",
              "      <td>0</td>\n",
              "      <td>0</td>\n",
              "      <td>0</td>\n",
              "      <td>0</td>\n",
              "      <td>0</td>\n",
              "      <td>0</td>\n",
              "      <td>0</td>\n",
              "    </tr>\n",
              "    <tr>\n",
              "      <th>4921</th>\n",
              "      <td>Fungal infection</td>\n",
              "      <td>itching</td>\n",
              "      <td>skin rash</td>\n",
              "      <td>nodal skin eruptions</td>\n",
              "      <td>0</td>\n",
              "      <td>0</td>\n",
              "      <td>0</td>\n",
              "      <td>0</td>\n",
              "      <td>0</td>\n",
              "      <td>0</td>\n",
              "      <td>0</td>\n",
              "      <td>0</td>\n",
              "      <td>0</td>\n",
              "      <td>0</td>\n",
              "      <td>0</td>\n",
              "      <td>0</td>\n",
              "      <td>0</td>\n",
              "      <td>0</td>\n",
              "    </tr>\n",
              "    <tr>\n",
              "      <th>4922</th>\n",
              "      <td>Impetigo</td>\n",
              "      <td>skin rash</td>\n",
              "      <td>high fever</td>\n",
              "      <td>blister</td>\n",
              "      <td>red sore around nose</td>\n",
              "      <td>yellow crust ooze</td>\n",
              "      <td>0</td>\n",
              "      <td>0</td>\n",
              "      <td>0</td>\n",
              "      <td>0</td>\n",
              "      <td>0</td>\n",
              "      <td>0</td>\n",
              "      <td>0</td>\n",
              "      <td>0</td>\n",
              "      <td>0</td>\n",
              "      <td>0</td>\n",
              "      <td>0</td>\n",
              "      <td>0</td>\n",
              "    </tr>\n",
              "    <tr>\n",
              "      <th>4923</th>\n",
              "      <td>Impetigo</td>\n",
              "      <td>skin rash</td>\n",
              "      <td>high fever</td>\n",
              "      <td>blister</td>\n",
              "      <td>red sore around nose</td>\n",
              "      <td>yellow crust ooze</td>\n",
              "      <td>0</td>\n",
              "      <td>0</td>\n",
              "      <td>0</td>\n",
              "      <td>0</td>\n",
              "      <td>0</td>\n",
              "      <td>0</td>\n",
              "      <td>0</td>\n",
              "      <td>0</td>\n",
              "      <td>0</td>\n",
              "      <td>0</td>\n",
              "      <td>0</td>\n",
              "      <td>0</td>\n",
              "    </tr>\n",
              "    <tr>\n",
              "      <th>4924</th>\n",
              "      <td>Impetigo</td>\n",
              "      <td>yellow crust ooze</td>\n",
              "      <td>red sore around nose</td>\n",
              "      <td>blister</td>\n",
              "      <td>high fever</td>\n",
              "      <td>skin rash</td>\n",
              "      <td>0</td>\n",
              "      <td>0</td>\n",
              "      <td>0</td>\n",
              "      <td>0</td>\n",
              "      <td>0</td>\n",
              "      <td>0</td>\n",
              "      <td>0</td>\n",
              "      <td>0</td>\n",
              "      <td>0</td>\n",
              "      <td>0</td>\n",
              "      <td>0</td>\n",
              "      <td>0</td>\n",
              "    </tr>\n",
              "  </tbody>\n",
              "</table>\n",
              "<p>4925 rows × 18 columns</p>\n",
              "</div>"
            ],
            "text/plain": [
              "               Disease          Symptom_1             Symptom_2  \\\n",
              "0     Fungal infection            itching             skin rash   \n",
              "1     Fungal infection          skin rash  nodal skin eruptions   \n",
              "2     Fungal infection            itching  nodal skin eruptions   \n",
              "3     Fungal infection            itching             skin rash   \n",
              "4     Fungal infection            itching             skin rash   \n",
              "...                ...                ...                   ...   \n",
              "4920  Fungal infection          skin rash               itching   \n",
              "4921  Fungal infection            itching             skin rash   \n",
              "4922          Impetigo          skin rash            high fever   \n",
              "4923          Impetigo          skin rash            high fever   \n",
              "4924          Impetigo  yellow crust ooze  red sore around nose   \n",
              "\n",
              "                 Symptom_3             Symptom_4          Symptom_5 Symptom_6  \\\n",
              "0     nodal skin eruptions   dischromic  patches                  0         0   \n",
              "1      dischromic  patches                     0                  0         0   \n",
              "2      dischromic  patches                     0                  0         0   \n",
              "3      dischromic  patches                     0                  0         0   \n",
              "4     nodal skin eruptions                     0                  0         0   \n",
              "...                    ...                   ...                ...       ...   \n",
              "4920  nodal skin eruptions                     0                  0         0   \n",
              "4921  nodal skin eruptions                     0                  0         0   \n",
              "4922               blister  red sore around nose  yellow crust ooze         0   \n",
              "4923               blister  red sore around nose  yellow crust ooze         0   \n",
              "4924               blister            high fever          skin rash         0   \n",
              "\n",
              "     Symptom_7 Symptom_8 Symptom_9 Symptom_10 Symptom_11 Symptom_12  \\\n",
              "0            0         0         0          0          0          0   \n",
              "1            0         0         0          0          0          0   \n",
              "2            0         0         0          0          0          0   \n",
              "3            0         0         0          0          0          0   \n",
              "4            0         0         0          0          0          0   \n",
              "...        ...       ...       ...        ...        ...        ...   \n",
              "4920         0         0         0          0          0          0   \n",
              "4921         0         0         0          0          0          0   \n",
              "4922         0         0         0          0          0          0   \n",
              "4923         0         0         0          0          0          0   \n",
              "4924         0         0         0          0          0          0   \n",
              "\n",
              "     Symptom_13 Symptom_14 Symptom_15 Symptom_16 Symptom_17  \n",
              "0             0          0          0          0          0  \n",
              "1             0          0          0          0          0  \n",
              "2             0          0          0          0          0  \n",
              "3             0          0          0          0          0  \n",
              "4             0          0          0          0          0  \n",
              "...         ...        ...        ...        ...        ...  \n",
              "4920          0          0          0          0          0  \n",
              "4921          0          0          0          0          0  \n",
              "4922          0          0          0          0          0  \n",
              "4923          0          0          0          0          0  \n",
              "4924          0          0          0          0          0  \n",
              "\n",
              "[4925 rows x 18 columns]"
            ]
          },
          "execution_count": 111,
          "metadata": {},
          "output_type": "execute_result"
        }
      ],
      "source": [
        "dataset"
      ]
    },
    {
      "cell_type": "markdown",
      "metadata": {
        "id": "-mOwAjr8-iFd"
      },
      "source": [
        "# **Symptoms Severnity**"
      ]
    },
    {
      "cell_type": "markdown",
      "metadata": {
        "id": "2LOxjmwG-qck"
      },
      "source": [
        "**1. Load the Dataset**"
      ]
    },
    {
      "cell_type": "code",
      "execution_count": 112,
      "metadata": {
        "id": "ZISXGn7i8wX5"
      },
      "outputs": [],
      "source": [
        "severity = pd.read_csv('Dataset/Symptom-severity.csv')"
      ]
    },
    {
      "cell_type": "code",
      "execution_count": 113,
      "metadata": {
        "colab": {
          "base_uri": "https://localhost:8080/",
          "height": 206
        },
        "id": "O5QtjCdJ-6aM",
        "outputId": "a34522a8-2704-403e-d3cd-d0cd1cc442b4"
      },
      "outputs": [
        {
          "data": {
            "text/html": [
              "<div>\n",
              "<style scoped>\n",
              "    .dataframe tbody tr th:only-of-type {\n",
              "        vertical-align: middle;\n",
              "    }\n",
              "\n",
              "    .dataframe tbody tr th {\n",
              "        vertical-align: top;\n",
              "    }\n",
              "\n",
              "    .dataframe thead th {\n",
              "        text-align: right;\n",
              "    }\n",
              "</style>\n",
              "<table border=\"1\" class=\"dataframe\">\n",
              "  <thead>\n",
              "    <tr style=\"text-align: right;\">\n",
              "      <th></th>\n",
              "      <th>Symptom</th>\n",
              "      <th>weight</th>\n",
              "    </tr>\n",
              "  </thead>\n",
              "  <tbody>\n",
              "    <tr>\n",
              "      <th>0</th>\n",
              "      <td>itching</td>\n",
              "      <td>1</td>\n",
              "    </tr>\n",
              "    <tr>\n",
              "      <th>1</th>\n",
              "      <td>skin_rash</td>\n",
              "      <td>3</td>\n",
              "    </tr>\n",
              "    <tr>\n",
              "      <th>2</th>\n",
              "      <td>nodal_skin_eruptions</td>\n",
              "      <td>4</td>\n",
              "    </tr>\n",
              "    <tr>\n",
              "      <th>3</th>\n",
              "      <td>continuous_sneezing</td>\n",
              "      <td>4</td>\n",
              "    </tr>\n",
              "    <tr>\n",
              "      <th>4</th>\n",
              "      <td>shivering</td>\n",
              "      <td>5</td>\n",
              "    </tr>\n",
              "  </tbody>\n",
              "</table>\n",
              "</div>"
            ],
            "text/plain": [
              "                Symptom  weight\n",
              "0               itching       1\n",
              "1             skin_rash       3\n",
              "2  nodal_skin_eruptions       4\n",
              "3   continuous_sneezing       4\n",
              "4             shivering       5"
            ]
          },
          "execution_count": 113,
          "metadata": {},
          "output_type": "execute_result"
        }
      ],
      "source": [
        "severity.head()"
      ]
    },
    {
      "cell_type": "code",
      "execution_count": 114,
      "metadata": {
        "id": "qeflqXnK--y7"
      },
      "outputs": [],
      "source": [
        "# remove the slashs from the dataset\n",
        "severity['Symptom'] = severity['Symptom'].str.replace('_',' ')"
      ]
    },
    {
      "cell_type": "markdown",
      "metadata": {
        "id": "E04E5xrLAhuP"
      },
      "source": [
        "Encoding the dataset symtoms with the weights given"
      ]
    },
    {
      "cell_type": "code",
      "execution_count": 115,
      "metadata": {
        "id": "k7kxXvum_1RA"
      },
      "outputs": [],
      "source": [
        "vals = dataset.values\n",
        "symptoms = severity['Symptom'].unique()"
      ]
    },
    {
      "cell_type": "code",
      "execution_count": null,
      "metadata": {
        "id": "YEzLiLmoA3_Y"
      },
      "outputs": [
        {
          "ename": "IndexError",
          "evalue": "only integers, slices (`:`), ellipsis (`...`), numpy.newaxis (`None`) and integer or boolean arrays are valid indices",
          "output_type": "error",
          "traceback": [
            "\u001b[31m---------------------------------------------------------------------------\u001b[39m",
            "\u001b[31mIndexError\u001b[39m                                Traceback (most recent call last)",
            "\u001b[36mCell\u001b[39m\u001b[36m \u001b[39m\u001b[32mIn[116]\u001b[39m\u001b[32m, line 2\u001b[39m\n\u001b[32m      1\u001b[39m \u001b[38;5;28;01mfor\u001b[39;00m i \u001b[38;5;129;01min\u001b[39;00m \u001b[38;5;28mrange\u001b[39m(\u001b[38;5;28mlen\u001b[39m(symptoms)):\n\u001b[32m----> \u001b[39m\u001b[32m2\u001b[39m     vals[vals == symptoms[i]] = \u001b[43mseverity\u001b[49m\u001b[43m[\u001b[49m\u001b[43mseverity\u001b[49m\u001b[43m[\u001b[49m\u001b[33;43m'\u001b[39;49m\u001b[33;43mSymptom\u001b[39;49m\u001b[33;43m'\u001b[39;49m\u001b[43m]\u001b[49m\u001b[43m \u001b[49m\u001b[43m==\u001b[49m\u001b[43m \u001b[49m\u001b[43msymptoms\u001b[49m\u001b[43m[\u001b[49m\u001b[43mi\u001b[49m\u001b[43m]\u001b[49m\u001b[43m]\u001b[49m\u001b[43m[\u001b[49m\u001b[33;43m'\u001b[39;49m\u001b[33;43mweight\u001b[39;49m\u001b[33;43m'\u001b[39;49m\u001b[43m]\u001b[49m\u001b[43m.\u001b[49m\u001b[43mvalues\u001b[49m\u001b[43m[\u001b[49m\u001b[33;43m\"\u001b[39;49m\u001b[33;43mo\u001b[39;49m\u001b[33;43m\"\u001b[39;49m\u001b[43m]\u001b[49m\n",
            "\u001b[31mIndexError\u001b[39m: only integers, slices (`:`), ellipsis (`...`), numpy.newaxis (`None`) and integer or boolean arrays are valid indices"
          ]
        }
      ],
      "source": [
        "for i in range(len(symptoms)):\n",
        "    vals[vals == symptoms[i]] = severity[severity['Symptom'] == symptoms[i]]['weight'].values[0]"
      ]
    },
    {
      "cell_type": "markdown",
      "metadata": {
        "id": "efhD5SGxSo2Z"
      },
      "source": [
        "convert the encoded data series into the dataframe"
      ]
    },
    {
      "cell_type": "code",
      "execution_count": null,
      "metadata": {
        "colab": {
          "base_uri": "https://localhost:8080/"
        },
        "id": "5SX5MoT3BrlE",
        "outputId": "4ebd39d9-0dbb-495c-9ba3-ae3ee33e96fe"
      },
      "outputs": [],
      "source": [
        "vals"
      ]
    },
    {
      "cell_type": "code",
      "execution_count": null,
      "metadata": {
        "colab": {
          "base_uri": "https://localhost:8080/",
          "height": 617
        },
        "id": "4siTeufiB1kG",
        "outputId": "f2a3e4d2-23e6-4cba-d7a2-92f26cce2ac7"
      },
      "outputs": [],
      "source": [
        "cols = dataset.columns\n",
        "dataset = pd.DataFrame(vals,columns=cols)\n",
        "dataset"
      ]
    },
    {
      "cell_type": "markdown",
      "metadata": {
        "id": "2bdzyyE3TWwy"
      },
      "source": [
        "Check for non-encoded cell"
      ]
    },
    {
      "cell_type": "code",
      "execution_count": null,
      "metadata": {
        "id": "VlhNvogcTHfE"
      },
      "outputs": [],
      "source": [
        "temp = []\n",
        "for i in range(1,18):\n",
        "  temp.append(dataset[f'Symptom_{i}'].value_counts())"
      ]
    },
    {
      "cell_type": "code",
      "execution_count": null,
      "metadata": {
        "id": "Tz7I-hVHTx86"
      },
      "outputs": [],
      "source": [
        "temp"
      ]
    },
    {
      "cell_type": "code",
      "execution_count": null,
      "metadata": {
        "colab": {
          "base_uri": "https://localhost:8080/",
          "height": 617
        },
        "id": "bqs2jqlwTyuG",
        "outputId": "6afeb7a6-530e-435d-874b-e52c4dacbf27"
      },
      "outputs": [],
      "source": [
        "dataset = dataset.replace('spotting  urination',0)\n",
        "dataset = dataset.replace('dischromic  patches',0)\n",
        "dataset = dataset.replace('foul smell of urine',0)\n",
        "dataset"
      ]
    },
    {
      "cell_type": "markdown",
      "metadata": {
        "id": "_yT6ivU6U9QI"
      },
      "source": [
        "Checkt the ratio of (Symptom:Disease)"
      ]
    },
    {
      "cell_type": "code",
      "execution_count": null,
      "metadata": {
        "colab": {
          "base_uri": "https://localhost:8080/"
        },
        "id": "YcLTIm__UPlc",
        "outputId": "443d3501-af6b-45dd-e047-2f34ea5897f4"
      },
      "outputs": [],
      "source": [
        "print(\"Number of symptoms used to identify the disease \",len(severity['Symptom'].unique()))\n",
        "print(\"Number of diseases that can be identified \",len(dataset['Disease'].unique()))"
      ]
    },
    {
      "cell_type": "markdown",
      "metadata": {
        "id": "SY5h1Qv1VLIy"
      },
      "source": [
        "# **Split Dataset into training and testing dataset**"
      ]
    },
    {
      "cell_type": "markdown",
      "metadata": {
        "id": "dqtPpnNDVycC"
      },
      "source": [
        "**Encoded Dataset**"
      ]
    },
    {
      "cell_type": "code",
      "execution_count": null,
      "metadata": {
        "colab": {
          "base_uri": "https://localhost:8080/",
          "height": 313
        },
        "id": "1YVKkkNRVKTr",
        "outputId": "ac88d46e-d071-43de-8771-8e10b31bb984"
      },
      "outputs": [],
      "source": [
        "dataset.head()"
      ]
    },
    {
      "cell_type": "markdown",
      "metadata": {
        "id": "KZahb6LrWBKd"
      },
      "source": [
        "**Split dataset into Training and Label Dataset**"
      ]
    },
    {
      "cell_type": "code",
      "execution_count": null,
      "metadata": {
        "id": "OiSodReRV6Pk"
      },
      "outputs": [],
      "source": [
        "X = dataset.iloc[:,1:].values\n",
        "y = dataset['Disease'].values"
      ]
    },
    {
      "cell_type": "code",
      "execution_count": null,
      "metadata": {
        "colab": {
          "base_uri": "https://localhost:8080/"
        },
        "id": "D4-GWFXZWcpt",
        "outputId": "5b6135fa-6aed-49d6-eaa0-0820816c1cf9"
      },
      "outputs": [],
      "source": [
        "X"
      ]
    },
    {
      "cell_type": "code",
      "execution_count": null,
      "metadata": {
        "colab": {
          "base_uri": "https://localhost:8080/"
        },
        "id": "b28HBXVaWdZp",
        "outputId": "83ffcf22-337b-42fb-a88c-88cd42f1a242"
      },
      "outputs": [],
      "source": [
        "y"
      ]
    },
    {
      "cell_type": "code",
      "execution_count": null,
      "metadata": {
        "colab": {
          "base_uri": "https://localhost:8080/"
        },
        "id": "0YJIKW9CXXsY",
        "outputId": "1a013e0c-6e4d-493a-b858-408bd292153d"
      },
      "outputs": [],
      "source": [
        "y.dtype"
      ]
    },
    {
      "cell_type": "markdown",
      "metadata": {
        "id": "TMVxtTbZXhGF"
      },
      "source": [
        "**Splits the 'X' set into Training and Testing set**"
      ]
    },
    {
      "cell_type": "code",
      "execution_count": null,
      "metadata": {
        "id": "hbNjNJVtXY-z"
      },
      "outputs": [],
      "source": [
        "X_train,X_test,y_train,y_test = train_test_split(X, y, test_size = 0.2, random_state = 42)"
      ]
    },
    {
      "cell_type": "code",
      "execution_count": null,
      "metadata": {
        "colab": {
          "base_uri": "https://localhost:8080/"
        },
        "id": "HKc2mB17YAJj",
        "outputId": "b8f0390b-cb1a-4eb3-bec8-76d08fa0d9f2"
      },
      "outputs": [],
      "source": [
        "print(X_train.dtype)\n",
        "print(X_test.dtype)\n",
        "print(y_train.dtype)\n",
        "print(y_test.dtype)\n"
      ]
    },
    {
      "cell_type": "code",
      "execution_count": null,
      "metadata": {
        "colab": {
          "base_uri": "https://localhost:8080/"
        },
        "id": "Mij138qGYKPr",
        "outputId": "ac67f47d-597f-45a3-b904-919a693f0d70"
      },
      "outputs": [],
      "source": [
        "# get the set size\n",
        "print(X_train.shape)\n",
        "print(y_train.shape)\n",
        "print(X_test.shape)\n",
        "print(y_test.shape)\n"
      ]
    },
    {
      "cell_type": "markdown",
      "metadata": {
        "id": "5u7VdnzIYryS"
      },
      "source": [
        "# **Model Selection**"
      ]
    },
    {
      "cell_type": "markdown",
      "metadata": {
        "id": "pNP2eMG7YyPQ"
      },
      "source": [
        "## Model 1: Random Forest Classifier"
      ]
    },
    {
      "cell_type": "code",
      "execution_count": null,
      "metadata": {
        "id": "zx-LAGKiYTx6"
      },
      "outputs": [],
      "source": [
        "from sklearn.ensemble import RandomForestClassifier\n",
        "from sklearn.metrics import confusion_matrix\n",
        "from sklearn.metrics import classification_report"
      ]
    },
    {
      "cell_type": "code",
      "execution_count": null,
      "metadata": {
        "id": "TqmNs-W_ZbZQ"
      },
      "outputs": [],
      "source": [
        "model_RFC = RandomForestClassifier()\n"
      ]
    },
    {
      "cell_type": "markdown",
      "metadata": {
        "id": "NjA443iOZkNI"
      },
      "source": [
        "Train Model"
      ]
    },
    {
      "cell_type": "code",
      "execution_count": null,
      "metadata": {
        "colab": {
          "base_uri": "https://localhost:8080/",
          "height": 75
        },
        "id": "kH3vDHncZhz3",
        "outputId": "488332a2-4cc1-4ec2-f21b-47e53ca43fcf"
      },
      "outputs": [],
      "source": [
        "model_RFC.fit(X_train,y_train)"
      ]
    },
    {
      "cell_type": "markdown",
      "metadata": {
        "id": "uUOAb-UJZ0U0"
      },
      "source": [
        "Evaluate Model"
      ]
    },
    {
      "cell_type": "code",
      "execution_count": null,
      "metadata": {
        "id": "PBGt0xLpZtpA"
      },
      "outputs": [],
      "source": [
        "y_RFC = model_RFC.predict(X_test)"
      ]
    },
    {
      "cell_type": "markdown",
      "metadata": {
        "id": "6MzDeUZWaE8s"
      },
      "source": [
        "Calcualte the Precision, Recall And Accuracy Score for our model"
      ]
    },
    {
      "cell_type": "code",
      "execution_count": null,
      "metadata": {
        "colab": {
          "base_uri": "https://localhost:8080/"
        },
        "id": "cPKEcgzgaDrE",
        "outputId": "f2e9d929-7979-497b-ca58-21ab2330c870"
      },
      "outputs": [],
      "source": [
        "print(classification_report(y_test,y_RFC))"
      ]
    },
    {
      "cell_type": "markdown",
      "metadata": {
        "id": "l4ygf4pJbByY"
      },
      "source": [
        "**By using Random Forest Classifier we got Accuracy = 99%**"
      ]
    },
    {
      "cell_type": "markdown",
      "metadata": {
        "id": "c7fdPXQhbSv_"
      },
      "source": [
        "## **Model 2: Neural Network --> MLPClassifier**"
      ]
    },
    {
      "cell_type": "code",
      "execution_count": null,
      "metadata": {
        "id": "a8m2izXYbgKa"
      },
      "outputs": [],
      "source": [
        "from sklearn.neural_network import MLPClassifier"
      ]
    },
    {
      "cell_type": "code",
      "execution_count": null,
      "metadata": {
        "id": "IdgLMOpbbqOG"
      },
      "outputs": [],
      "source": [
        "model_MLPC = MLPClassifier()"
      ]
    },
    {
      "cell_type": "markdown",
      "metadata": {
        "id": "Z8ONfBB_bxAs"
      },
      "source": [
        "Train Model"
      ]
    },
    {
      "cell_type": "code",
      "execution_count": null,
      "metadata": {
        "colab": {
          "base_uri": "https://localhost:8080/",
          "height": 0
        },
        "id": "a558IljDbuHS",
        "outputId": "86ce343a-2dc3-487b-f32d-449ff2c56d8e"
      },
      "outputs": [],
      "source": [
        "model_MLPC.fit(X_train,y_train)"
      ]
    },
    {
      "cell_type": "markdown",
      "metadata": {
        "id": "ZXHtSzDfc2AT"
      },
      "source": [
        "Make the prediction"
      ]
    },
    {
      "cell_type": "code",
      "execution_count": null,
      "metadata": {
        "id": "K0zSwmaBb3Ll"
      },
      "outputs": [],
      "source": [
        "y_MLPC = model_MLPC.predict(X_test)"
      ]
    },
    {
      "cell_type": "markdown",
      "metadata": {
        "id": "VzHwIhsNdA7K"
      },
      "source": [
        "**Evaluate the model**"
      ]
    },
    {
      "cell_type": "code",
      "execution_count": null,
      "metadata": {
        "colab": {
          "base_uri": "https://localhost:8080/"
        },
        "id": "Td4FX2lfc_jw",
        "outputId": "753de20a-82b5-4133-e79e-c2c49ffe953a"
      },
      "outputs": [],
      "source": [
        "print(classification_report(y_test,y_MLPC))"
      ]
    },
    {
      "cell_type": "markdown",
      "metadata": {
        "id": "1dPUUovZdb5e"
      },
      "source": [
        "**By using the Neural Network --> MLPClassfier we also got the Accuracy = 99%**"
      ]
    },
    {
      "cell_type": "markdown",
      "metadata": {
        "id": "mMrjkJE6doZ8"
      },
      "source": [
        "By comparing the F1_score of both the model, I decide to go further with RFC(Random Forest Classifier) Model"
      ]
    },
    {
      "cell_type": "markdown",
      "metadata": {
        "id": "QJFTFwEdd-5g"
      },
      "source": [
        "# **Test the model Manuallly**"
      ]
    },
    {
      "cell_type": "code",
      "execution_count": null,
      "metadata": {
        "id": "3nWVr-F-dJyC"
      },
      "outputs": [],
      "source": [
        "y_man = model_RFC.predict([[3, 3,\t3, 2, 2, 2,\t0, 0,\t0, 0,\t0, 0,\t0, 0,\t0, 0,\t0]])"
      ]
    },
    {
      "cell_type": "code",
      "execution_count": null,
      "metadata": {
        "colab": {
          "base_uri": "https://localhost:8080/"
        },
        "id": "3L0gSa4feh9U",
        "outputId": "963a24f9-2b44-4369-abee-e696d0208299"
      },
      "outputs": [],
      "source": [
        "print(y_man)"
      ]
    },
    {
      "cell_type": "code",
      "execution_count": null,
      "metadata": {
        "id": "WICJuGFyfKGD"
      },
      "outputs": [],
      "source": []
    },
    {
      "cell_type": "markdown",
      "metadata": {
        "id": "4vSRIs43fvJA"
      },
      "source": [
        "# **Save Model : Model_RFC(Random Forest Classifier)**"
      ]
    },
    {
      "cell_type": "code",
      "execution_count": null,
      "metadata": {
        "id": "fUGDY8MTftuQ"
      },
      "outputs": [],
      "source": [
        "import pickle"
      ]
    },
    {
      "cell_type": "code",
      "execution_count": null,
      "metadata": {
        "id": "boF3-EGbf74r"
      },
      "outputs": [],
      "source": [
        "pickle.dump(model_RFC, open('model_RFC.joblib','wb'))"
      ]
    },
    {
      "cell_type": "markdown",
      "metadata": {
        "id": "_HqrziYogbEY"
      },
      "source": [
        "load the model"
      ]
    },
    {
      "cell_type": "code",
      "execution_count": null,
      "metadata": {
        "id": "V_3-P_t5gKqx"
      },
      "outputs": [],
      "source": [
        "load_RFC = pickle.load(open('model_RFC.joblib','rb'))"
      ]
    },
    {
      "cell_type": "code",
      "execution_count": null,
      "metadata": {
        "id": "C2iwMJRbhVLC"
      },
      "outputs": [],
      "source": [
        "prediction = load_RFC.predict([[3, 3,\t3, 2, 2, 2,\t0, 0,\t0, 0,\t0, 0,\t0, 0,\t0, 0,\t0]])"
      ]
    },
    {
      "cell_type": "code",
      "execution_count": null,
      "metadata": {
        "colab": {
          "base_uri": "https://localhost:8080/"
        },
        "id": "7ThoA-TPhHOe",
        "outputId": "87808f3c-ab8d-4adc-a43a-fd68fa45d8d7"
      },
      "outputs": [],
      "source": [
        "prediction"
      ]
    },
    {
      "cell_type": "code",
      "execution_count": null,
      "metadata": {
        "id": "FXk_J9ovh2B_"
      },
      "outputs": [],
      "source": []
    }
  ],
  "metadata": {
    "colab": {
      "collapsed_sections": [
        "a-aEVae9l_ns",
        "-mOwAjr8-iFd"
      ],
      "provenance": []
    },
    "kernelspec": {
      "display_name": "myenv",
      "language": "python",
      "name": "python3"
    },
    "language_info": {
      "codemirror_mode": {
        "name": "ipython",
        "version": 3
      },
      "file_extension": ".py",
      "mimetype": "text/x-python",
      "name": "python",
      "nbconvert_exporter": "python",
      "pygments_lexer": "ipython3",
      "version": "3.13.1"
    }
  },
  "nbformat": 4,
  "nbformat_minor": 0
}
